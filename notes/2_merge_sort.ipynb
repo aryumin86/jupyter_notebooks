{
 "cells": [
  {
   "cell_type": "markdown",
   "id": "12b1eacf",
   "metadata": {},
   "source": [
    "# Merge sorting"
   ]
  },
  {
   "attachments": {},
   "cell_type": "markdown",
   "id": "5e6545a0",
   "metadata": {},
   "source": [
    "Not done yet"
   ]
  },
  {
   "cell_type": "code",
   "execution_count": 1,
   "id": "14f0bf88",
   "metadata": {},
   "outputs": [
    {
     "ename": "",
     "evalue": "",
     "output_type": "error",
     "traceback": [
      "\u001b[1;31mCanceled future for execute_request message before replies were done"
     ]
    },
    {
     "ename": "",
     "evalue": "",
     "output_type": "error",
     "traceback": [
      "\u001b[1;31mThe Kernel crashed while executing code in the the current cell or a previous cell. Please review the code in the cell(s) to identify a possible cause of the failure. Click <a href='https://aka.ms/vscodeJupyterKernelCrash'>here</a> for more info. View Jupyter <a href='command:jupyter.viewOutput'>log</a> for further details."
     ]
    }
   ],
   "source": [
    "def merge(arr: List, p: int, q: int, r: int):\n",
    "    n1 = q - p + 1\n",
    "    n2 = r - q\n",
    "    #leftArr = [0 for x in range(n1+1)]\n",
    "    #rightArr = [0 for x in range(n2+1)]\n",
    "    leftArr = [0 for x in range(n1+2)]\n",
    "    rightArr = [0 for x in range(n2+2)]\n",
    "    for i in range(0, n1):\n",
    "        leftArr[i] = arr[p+i-1]\n",
    "    for j in range(0, n2):\n",
    "        rightArr[j] = arr[q+j]\n",
    "    #leftArr[n1+1] = sys.maxsize # instead if 'infinity' sign in Corman's book\n",
    "    #rightArr[n2+1] = sys.maxsize # instead if 'infinity' sign in Corman's book\n",
    "    i = 0\n",
    "    j = 0\n",
    "    for k in range(p, r):\n",
    "        if leftArr[i] <= rightArr[j]:\n",
    "            arr[k] = leftArr[i]\n",
    "            i = i+1\n",
    "        else:\n",
    "            arr[k] = rightArr[j]\n",
    "            j = j+1\n",
    "            \n",
    "def merge_sort(arr, p, r):\n",
    "    if p < r:\n",
    "        q = int((p + r - 1) / 2) if ((p + r) % 2) > 0 else int((p + r) / 2)\n",
    "        merge_sort(arr, p, q)\n",
    "        merge_sort(arr, q+1, r)\n",
    "        merge(arr, p, q, r)\n",
    "    else:\n",
    "        print(arr)\n",
    "        \n",
    "arr = [2, 5, 33, 10, 6, 1, 8]\n",
    "merge_sort(arr, 0, 6)"
   ]
  }
 ],
 "metadata": {
  "kernelspec": {
   "display_name": "Python 3.9.5 64-bit",
   "language": "python",
   "name": "python3"
  },
  "language_info": {
   "codemirror_mode": {
    "name": "ipython",
    "version": 3
   },
   "file_extension": ".py",
   "mimetype": "text/x-python",
   "name": "python",
   "nbconvert_exporter": "python",
   "pygments_lexer": "ipython3",
   "version": "3.9.5"
  },
  "vscode": {
   "interpreter": {
    "hash": "81794d4967e6c3204c66dcd87b604927b115b27c00565d3d43f05ba2f3a2cb0d"
   }
  }
 },
 "nbformat": 4,
 "nbformat_minor": 5
}
