{
 "cells": [
  {
   "attachments": {},
   "cell_type": "markdown",
   "metadata": {},
   "source": [
    "This is task 2.2.2 of Corman's book - write pseudo code of selection sort. I will write it as I see it - there is very short description of it in the book. "
   ]
  },
  {
   "cell_type": "code",
   "execution_count": 5,
   "metadata": {},
   "outputs": [
    {
     "name": "stdout",
     "output_type": "stream",
     "text": [
      "[1, 2, 5, 6, 8, 10, 33]\n"
     ]
    }
   ],
   "source": [
    "def selection_sort(arr):    \n",
    "    temp = -1\n",
    "    for i in range(0, len(arr)-1): # we can skip last element\n",
    "        current_min = arr[i]\n",
    "        current_min_index = i\n",
    "        for j in range(i, len(arr)):\n",
    "            if arr[j] < current_min:\n",
    "                current_min = arr[j]\n",
    "                current_min_index = j\n",
    "        if current_min < arr[i]:\n",
    "            temp = arr[i]\n",
    "            arr[i] = arr[current_min_index]\n",
    "            arr[current_min_index] = temp\n",
    "    return arr\n",
    "        \n",
    "arr = [2, 5, 33, 10, 6, 1, 8]\n",
    "print(selection_sort(arr))"
   ]
  },
  {
   "attachments": {},
   "cell_type": "markdown",
   "metadata": {},
   "source": [
    "Also the author offers to write which cycle invariant is represented here. I don't know :-) I didn't understand how to identify it. As I see - this is the staff between first and last line in this method... But may be it is the inner cycle.\n"
   ]
  },
  {
   "attachments": {},
   "cell_type": "markdown",
   "metadata": {},
   "source": [
    "And the author insist on analysing this algorythm. I tried my best (And I know it is not completed...):\n",
    "\n",
    "![title](images/3_selection_sort_analysis.png)"
   ]
  }
 ],
 "metadata": {
  "kernelspec": {
   "display_name": "Python 3.9.5 64-bit",
   "language": "python",
   "name": "python3"
  },
  "language_info": {
   "codemirror_mode": {
    "name": "ipython",
    "version": 3
   },
   "file_extension": ".py",
   "mimetype": "text/x-python",
   "name": "python",
   "nbconvert_exporter": "python",
   "pygments_lexer": "ipython3",
   "version": "3.9.5 (tags/v3.9.5:0a7dcbd, May  3 2021, 17:27:52) [MSC v.1928 64 bit (AMD64)]"
  },
  "orig_nbformat": 4,
  "vscode": {
   "interpreter": {
    "hash": "81794d4967e6c3204c66dcd87b604927b115b27c00565d3d43f05ba2f3a2cb0d"
   }
  }
 },
 "nbformat": 4,
 "nbformat_minor": 2
}
