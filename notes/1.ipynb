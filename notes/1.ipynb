{
 "cells": [
  {
   "cell_type": "markdown",
   "id": "81315a6e",
   "metadata": {},
   "source": [
    "# 1. Insertion sort"
   ]
  },
  {
   "cell_type": "markdown",
   "id": "2c5f6c89",
   "metadata": {},
   "source": [
    "This is just a first post in this blog. Started to write down sone remarks of things I learn now. "
   ]
  },
  {
   "cell_type": "markdown",
   "id": "edaec9b3",
   "metadata": {},
   "source": [
    "Today I started to read Corman book about algorythms. This is insertion sort:"
   ]
  },
  {
   "cell_type": "code",
   "execution_count": 1,
   "id": "c52864aa",
   "metadata": {},
   "outputs": [
    {
     "name": "stdout",
     "output_type": "stream",
     "text": [
      "[1, 6, 8, 10, 33]\n"
     ]
    }
   ],
   "source": [
    "def insertion_sort(arr):\n",
    "    key = -1\n",
    "    i = -1\n",
    "    for j in range(1, len(arr)):\n",
    "        key = arr[j]\n",
    "        i = j - 1\n",
    "        while i >= 0 and arr[i] > key:\n",
    "            arr[i+1] = arr[i]\n",
    "            i = i-1\n",
    "        arr[i+1] = key\n",
    "    return arr\n",
    "        \n",
    "arr = [33, 10, 6, 1, 8]\n",
    "print(insertion_sort(arr))"
   ]
  },
  {
   "cell_type": "markdown",
   "id": "346a30ce",
   "metadata": {},
   "source": [
    "So the main idea is to choose one element - key - (at first second from tht left and within a cycle moving to the right elements) and compair it to all elements to the left. While they are bigger than the key move them to the right: arr[i+1] = arr[i]. When the element is less or equals to the key we stop compairing and put our key to the slot, where the previos bigger element (moved to the right) was: arr[i+1] = key.\n"
   ]
  }
 ],
 "metadata": {
  "kernelspec": {
   "display_name": "Python 3 (ipykernel)",
   "language": "python",
   "name": "python3"
  },
  "language_info": {
   "codemirror_mode": {
    "name": "ipython",
    "version": 3
   },
   "file_extension": ".py",
   "mimetype": "text/x-python",
   "name": "python",
   "nbconvert_exporter": "python",
   "pygments_lexer": "ipython3",
   "version": "3.9.5"
  }
 },
 "nbformat": 4,
 "nbformat_minor": 5
}
