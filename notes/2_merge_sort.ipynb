{
 "cells": [
  {
   "cell_type": "markdown",
   "id": "12b1eacf",
   "metadata": {},
   "source": [
    "# Merge sorting"
   ]
  },
  {
   "attachments": {},
   "cell_type": "markdown",
   "id": "5e6545a0",
   "metadata": {},
   "source": [
    "Merge sort implementation"
   ]
  },
  {
   "cell_type": "code",
   "execution_count": 2,
   "id": "14f0bf88",
   "metadata": {},
   "outputs": [
    {
     "name": "stdout",
     "output_type": "stream",
     "text": [
      "[1, 2, 5, 6, 8, 10, 33]\n"
     ]
    }
   ],
   "source": [
    "from ast import List\n",
    "import sys\n",
    "\n",
    "def merge(arr: List, p: int, q: int, r: int):\n",
    "    n1 = q - p + 1\n",
    "    n2 = r - q\n",
    "    leftArr = [0 for x in range(n1+1)]\n",
    "    rightArr = [0 for x in range(n2+1)]\n",
    "    for i in range(0, n1):\n",
    "        leftArr[i] = arr[p+i]\n",
    "    for j in range(0, n2):\n",
    "        rightArr[j] = arr[q+j+1]\n",
    "    leftArr[n1] = sys.maxsize # instead if 'infinity' sign in Corman's book\n",
    "    rightArr[n2] = sys.maxsize # instead if 'infinity' sign in Corman's book\n",
    "    i = 0\n",
    "    j = 0\n",
    "    for k in range(p, r+1):\n",
    "        if leftArr[i] <= rightArr[j]:\n",
    "            arr[k] = leftArr[i]\n",
    "            i = i+1\n",
    "        else:\n",
    "            arr[k] = rightArr[j]\n",
    "            j = j+1\n",
    "            \n",
    "def merge_sort(arr: List, p: int, r: int):\n",
    "    if p < r:\n",
    "        q = int((p + r - 1) / 2) if ((p + r) % 2) > 0 else int((p + r) / 2)\n",
    "        merge_sort(arr, p, q)\n",
    "        merge_sort(arr, q+1, r)\n",
    "        merge(arr, p, q, r)\n",
    "        \n",
    "arr = [2, 5, 33, 10, 6, 1, 8]\n",
    "merge_sort(arr, 0, 6)\n",
    "print(arr)"
   ]
  }
 ],
 "metadata": {
  "kernelspec": {
   "display_name": "Python 3.9.5 64-bit",
   "language": "python",
   "name": "python3"
  },
  "language_info": {
   "codemirror_mode": {
    "name": "ipython",
    "version": 3
   },
   "file_extension": ".py",
   "mimetype": "text/x-python",
   "name": "python",
   "nbconvert_exporter": "python",
   "pygments_lexer": "ipython3",
   "version": "3.9.5"
  },
  "vscode": {
   "interpreter": {
    "hash": "81794d4967e6c3204c66dcd87b604927b115b27c00565d3d43f05ba2f3a2cb0d"
   }
  }
 },
 "nbformat": 4,
 "nbformat_minor": 5
}
